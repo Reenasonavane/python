{
 "cells": [
  {
   "cell_type": "code",
   "execution_count": 1,
   "id": "b6232bd2-2005-4095-bbf5-622d34945853",
   "metadata": {},
   "outputs": [
    {
     "name": "stdout",
     "output_type": "stream",
     "text": [
      "2024-07-23 03:47:13.585252\n"
     ]
    }
   ],
   "source": [
    "import datetime\n",
    "\n",
    "datetime_object = datetime.datetime.now()\n",
    "print(datetime_object)"
   ]
  },
  {
   "cell_type": "code",
   "execution_count": 3,
   "id": "c83c89e1-1175-4898-8066-c6431f74cdd0",
   "metadata": {},
   "outputs": [
    {
     "name": "stdout",
     "output_type": "stream",
     "text": [
      "Date passed as argument is 1998-01-28\n"
     ]
    }
   ],
   "source": [
    "from datetime import date\n",
    "\n",
    "my_date = date(1998,1,28)\n",
    "print(\"Date passed as argument is\", my_date)"
   ]
  },
  {
   "cell_type": "code",
   "execution_count": 5,
   "id": "c4532e7b-7793-4a3b-a18c-c49258fcf142",
   "metadata": {},
   "outputs": [
    {
     "name": "stdout",
     "output_type": "stream",
     "text": [
      "today's date is 2024-07-23\n"
     ]
    }
   ],
   "source": [
    "today = date.today()\n",
    "\n",
    "print(\"today's date is\", today)"
   ]
  },
  {
   "cell_type": "code",
   "execution_count": 7,
   "id": "a51bf730-0537-4619-8cb4-2d40b8760a49",
   "metadata": {},
   "outputs": [
    {
     "name": "stdout",
     "output_type": "stream",
     "text": [
      "current year: 2024\n",
      "current month: 7\n",
      "current day: 23\n"
     ]
    }
   ],
   "source": [
    "today = date.today()\n",
    "\n",
    "print(\"current year:\", today.year)\n",
    "print(\"current month:\", today.month)\n",
    "print(\"current day:\", today.day)"
   ]
  },
  {
   "cell_type": "code",
   "execution_count": 17,
   "id": "d22c69ff-6519-4874-93e6-4f45420fd9f4",
   "metadata": {},
   "outputs": [
    {
     "name": "stdout",
     "output_type": "stream",
     "text": [
      "Datetime from timestamp: 2024-07-23 04:00:19\n"
     ]
    }
   ],
   "source": [
    "from datetime import datetime\n",
    "\n",
    "\n",
    "date_time = datetime.fromtimestamp(1721732419)\n",
    "print(\"Datetime from timestamp:\", date_time)"
   ]
  },
  {
   "cell_type": "code",
   "execution_count": 19,
   "id": "0486ae05-5d9f-4378-80c3-f701bf3e7b8f",
   "metadata": {},
   "outputs": [
    {
     "data": {
      "text/plain": [
       "1721732946.705691"
      ]
     },
     "execution_count": 19,
     "metadata": {},
     "output_type": "execute_result"
    }
   ],
   "source": [
    "from datetime import datetime\n",
    "dt = datetime.now()\n",
    "unix_timestamp = dt.timestamp()\n",
    "unix_timestamp"
   ]
  },
  {
   "cell_type": "code",
   "execution_count": 21,
   "id": "8f21df2c-6571-46f3-ab5f-5a832cb344b8",
   "metadata": {},
   "outputs": [
    {
     "name": "stdout",
     "output_type": "stream",
     "text": [
      "strin representation 2024-07-23\n",
      "<class 'str'>\n"
     ]
    }
   ],
   "source": [
    "today = date.today()\n",
    "str = date.isoformat(today)\n",
    "print(\"strin representation\", str)\n",
    "print(type(str))"
   ]
  },
  {
   "cell_type": "code",
   "execution_count": 25,
   "id": "c373bc89-9128-4ba0-bfcb-275e97b25172",
   "metadata": {},
   "outputs": [
    {
     "name": "stdout",
     "output_type": "stream",
     "text": [
      "entered time 13:24:56\n",
      "\n",
      "time with one argument 00:12:00\n",
      "\n",
      "time with one argument 00:00:30\n",
      "\n",
      "time with one argument 10:00:00\n",
      "\n",
      "time with one argument 00:00:00\n"
     ]
    }
   ],
   "source": [
    "from datetime import time\n",
    "my_time = time(13, 24, 56)\n",
    "print(\"entered time\", my_time)\n",
    "\n",
    "my_time = time(minute=12)\n",
    "print(\"\\ntime with one argument\", my_time)\n",
    "\n",
    "my_time = time(second=30)\n",
    "print(\"\\ntime with one argument\", my_time)\n",
    "\n",
    "my_time = time(hour=10)\n",
    "print(\"\\ntime with one argument\", my_time)\n",
    "\n",
    "my_time = time()\n",
    "print(\"\\ntime with one argument\", my_time)\n",
    "\n",
    "\n"
   ]
  },
  {
   "cell_type": "code",
   "execution_count": 27,
   "id": "84491f66-e687-447a-b758-f3aa14c662f5",
   "metadata": {},
   "outputs": [
    {
     "name": "stdout",
     "output_type": "stream",
     "text": [
      "hour= 12\n",
      "minute 20\n",
      "second 34\n",
      "microsecond 0\n"
     ]
    }
   ],
   "source": [
    "from datetime import time\n",
    "\n",
    "time = time(12,20,34)\n",
    "\n",
    "print(\"hour=\", time.hour)\n",
    "print(\"minute\", time.minute)\n",
    "print(\"second\", time.second)\n",
    "print(\"microsecond\", time.microsecond)"
   ]
  },
  {
   "cell_type": "code",
   "execution_count": 33,
   "id": "6814da97-bcdc-4035-83ee-c1b9c2c14d03",
   "metadata": {},
   "outputs": [
    {
     "name": "stdout",
     "output_type": "stream",
     "text": [
      "   September 2024\n",
      "Mo Tu We Th Fr Sa Su\n",
      "                   1\n",
      " 2  3  4  5  6  7  8\n",
      " 9 10 11 12 13 14 15\n",
      "16 17 18 19 20 21 22\n",
      "23 24 25 26 27 28 29\n",
      "30\n",
      "\n"
     ]
    }
   ],
   "source": [
    "import calendar\n",
    "\n",
    "yy = 2024\n",
    "mm = 9\n",
    "\n",
    "print(calendar.month(yy, mm))"
   ]
  },
  {
   "cell_type": "code",
   "execution_count": 35,
   "id": "e88b5513-127e-4a13-8b41-24f91fb90f6c",
   "metadata": {},
   "outputs": [
    {
     "name": "stdout",
     "output_type": "stream",
     "text": [
      "the calendar of year2022 is : \n",
      "                                  2022\n",
      "\n",
      "      January                   February                   March\n",
      "Mo Tu We Th Fr Sa Su      Mo Tu We Th Fr Sa Su      Mo Tu We Th Fr Sa Su\n",
      "                1  2          1  2  3  4  5  6          1  2  3  4  5  6\n",
      " 3  4  5  6  7  8  9       7  8  9 10 11 12 13       7  8  9 10 11 12 13\n",
      "10 11 12 13 14 15 16      14 15 16 17 18 19 20      14 15 16 17 18 19 20\n",
      "17 18 19 20 21 22 23      21 22 23 24 25 26 27      21 22 23 24 25 26 27\n",
      "24 25 26 27 28 29 30      28                        28 29 30 31\n",
      "31\n",
      "\n",
      "       April                      May                       June\n",
      "Mo Tu We Th Fr Sa Su      Mo Tu We Th Fr Sa Su      Mo Tu We Th Fr Sa Su\n",
      "             1  2  3                         1             1  2  3  4  5\n",
      " 4  5  6  7  8  9 10       2  3  4  5  6  7  8       6  7  8  9 10 11 12\n",
      "11 12 13 14 15 16 17       9 10 11 12 13 14 15      13 14 15 16 17 18 19\n",
      "18 19 20 21 22 23 24      16 17 18 19 20 21 22      20 21 22 23 24 25 26\n",
      "25 26 27 28 29 30         23 24 25 26 27 28 29      27 28 29 30\n",
      "                          30 31\n",
      "\n",
      "        July                     August                  September\n",
      "Mo Tu We Th Fr Sa Su      Mo Tu We Th Fr Sa Su      Mo Tu We Th Fr Sa Su\n",
      "             1  2  3       1  2  3  4  5  6  7                1  2  3  4\n",
      " 4  5  6  7  8  9 10       8  9 10 11 12 13 14       5  6  7  8  9 10 11\n",
      "11 12 13 14 15 16 17      15 16 17 18 19 20 21      12 13 14 15 16 17 18\n",
      "18 19 20 21 22 23 24      22 23 24 25 26 27 28      19 20 21 22 23 24 25\n",
      "25 26 27 28 29 30 31      29 30 31                  26 27 28 29 30\n",
      "\n",
      "      October                   November                  December\n",
      "Mo Tu We Th Fr Sa Su      Mo Tu We Th Fr Sa Su      Mo Tu We Th Fr Sa Su\n",
      "                1  2          1  2  3  4  5  6                1  2  3  4\n",
      " 3  4  5  6  7  8  9       7  8  9 10 11 12 13       5  6  7  8  9 10 11\n",
      "10 11 12 13 14 15 16      14 15 16 17 18 19 20      12 13 14 15 16 17 18\n",
      "17 18 19 20 21 22 23      21 22 23 24 25 26 27      19 20 21 22 23 24 25\n",
      "24 25 26 27 28 29 30      28 29 30                  26 27 28 29 30 31\n",
      "31\n",
      "\n"
     ]
    }
   ],
   "source": [
    "import calendar\n",
    "\n",
    "print(\"the calendar of year2022 is : \")\n",
    "print(calendar.calendar(2022))"
   ]
  },
  {
   "cell_type": "code",
   "execution_count": 51,
   "id": "49d6625e-e1a6-404d-ba05-a4a94a868dbf",
   "metadata": {},
   "outputs": [
    {
     "name": "stdout",
     "output_type": "stream",
     "text": [
      "<table border=\"0\" cellpadding=\"0\" cellspacing=\"0\" class=\"month\">\n",
      "<tr><th colspan=\"7\" class=\"month\">September 2022</th></tr>\n",
      "<tr><th class=\"mon\">Mon</th><th class=\"tue\">Tue</th><th class=\"wed\">Wed</th><th class=\"thu\">Thu</th><th class=\"fri\">Fri</th><th class=\"sat\">Sat</th><th class=\"sun\">Sun</th></tr>\n",
      "<tr><td class=\"noday\">&nbsp;</td><td class=\"noday\">&nbsp;</td><td class=\"noday\">&nbsp;</td><td class=\"thu\">1</td><td class=\"fri\">2</td><td class=\"sat\">3</td><td class=\"sun\">4</td></tr>\n",
      "<tr><td class=\"mon\">5</td><td class=\"tue\">6</td><td class=\"wed\">7</td><td class=\"thu\">8</td><td class=\"fri\">9</td><td class=\"sat\">10</td><td class=\"sun\">11</td></tr>\n",
      "<tr><td class=\"mon\">12</td><td class=\"tue\">13</td><td class=\"wed\">14</td><td class=\"thu\">15</td><td class=\"fri\">16</td><td class=\"sat\">17</td><td class=\"sun\">18</td></tr>\n",
      "<tr><td class=\"mon\">19</td><td class=\"tue\">20</td><td class=\"wed\">21</td><td class=\"thu\">22</td><td class=\"fri\">23</td><td class=\"sat\">24</td><td class=\"sun\">25</td></tr>\n",
      "<tr><td class=\"mon\">26</td><td class=\"tue\">27</td><td class=\"wed\">28</td><td class=\"thu\">29</td><td class=\"fri\">30</td><td class=\"noday\">&nbsp;</td><td class=\"noday\">&nbsp;</td></tr>\n",
      "</table>\n",
      "\n"
     ]
    }
   ],
   "source": [
    "import calendar\n",
    "text_cal = calendar.HTMLCalendar(firstweekday = 0)\n",
    "\n",
    "year = 2022\n",
    "month = 9\n",
    "\n",
    "print(text_cal.formatmonth(year,month))\n"
   ]
  },
  {
   "cell_type": "code",
   "execution_count": null,
   "id": "8f5549e9-8d20-4db6-89b1-80f234211da5",
   "metadata": {},
   "outputs": [],
   "source": []
  }
 ],
 "metadata": {
  "kernelspec": {
   "display_name": "Python 3 (ipykernel)",
   "language": "python",
   "name": "python3"
  },
  "language_info": {
   "codemirror_mode": {
    "name": "ipython",
    "version": 3
   },
   "file_extension": ".py",
   "mimetype": "text/x-python",
   "name": "python",
   "nbconvert_exporter": "python",
   "pygments_lexer": "ipython3",
   "version": "3.12.4"
  }
 },
 "nbformat": 4,
 "nbformat_minor": 5
}
